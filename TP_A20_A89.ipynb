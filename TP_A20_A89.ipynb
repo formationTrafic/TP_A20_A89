{
 "cells": [
  {
   "cell_type": "markdown",
   "metadata": {},
   "source": [
    "# Evalaution d'une mesure de gestion de trafic sur le barreau A20/A89\n",
    "\n",
    "## Contexte de l’étude\n",
    "L’autoroute A20, analysée dans le cadre de ce TP, s’étend de Vierzon à Montauban, et supporte le trafic de transit Paris – Toulouse. Dans le secteur de Brive-la-Gaillarde, le trafic de l’autoroute A89 emprunte pendant une vingtaine de kilomètres celui l’autoroute A20. Ce barreau A20/A89 longe la ville de Brive-la-Gaillarde. Il est constitué d’une section à deux fois deux voies,  avec voie lente limitée à 110 km/h du PR 261+900 (point A) au PR 266+000 (point B)\n",
    "\n",
    "\n",
    "![title](1.png)"
   ]
  },
  {
   "cell_type": "markdown",
   "metadata": {},
   "source": [
    "La section présente des trafics modérés, en semaine sur les trafics pendulaires comme en week-end. En revanche, lors des vacances estivales convergent les transits nord-sud (Paris – Toulouse) Le barreau autoroutier supporte donc une forte demande de trafic sur cette période et présente une congestion recensée de 10 h à 17 h sur les samedis de juillet\n",
    "À cela s’ajoutent des contraintes de relief importantes avec le franchissement du plateau du Limousin. Par ailleurs, la voie de contournement nord de l’agglomération débouche au niveau de l’échangeur 49, à l’intérieur du barreau commun.\n",
    "\n",
    "La Direction Interdépartementale des Routes Centre-Ouest (DIRCO), exploitant de l’A20, a mis en place une mesure d’exploitation spécifique visant à fluidifier le trafic sur l’autoroute A20, dans sa partie commune avec l’autoroute A89, durant deux samedis de juillet 2019. L’objectif étant d’améliorer le service à l’usager en réduisant le volume des congestions sur le secteur durant cette période. Ces stratégies de régulation de trafic ont été appliquées à partir du vendredi matin jusqu’au lundi matin sur le deuxième et troisième week-end de juillet 2019.\n",
    "\n",
    "Ces stratégies sont les suivantes :\n",
    "- Abaissement de la vitesse de 110 km/h à 90 km/h entre le PR 261+500 et le PR 269+850 ;\n",
    "- Interdiction de dépassement des véhicules poids lourds entre le PR 261+500 et le PR 266+000 ;\n",
    "- Circulation interdite sur la voie de gauche du PR 261+900 au PR 266+000 ;\n",
    "- Circulation rabattue sur la voie de droite et la voie spéciale pour véhicules lents du PR 261+900 au PR 266+000 ;\n",
    "- Circulation sur la voie spéciale pour véhicules lents a été autorisée du PR 261+900 au PR 266+000 à toutes les catégories de véhicules à l’exception de ceux dont l’accès des autoroutes est interdit ;\n",
    "-  Affichage d’un message de restriction de voie par la gauche ( avec pictogramme de passage de 3 à 2voies ) sur e PMV en amont au PR 256 ;\n",
    "- Mise en place d’un panneau de signalisation fixe indiquant aux usagers l’autorisation de circulation sur la voie réservée aux véhicules lents.\n",
    "\n",
    "L’ensemble de ces mesures est reporté sur la carte suivante.\n",
    "CEtte carte présente également le dispositif de recueil de données qui a été mis en place pour l’évaluation a posteriori de ces mesures. On notera l’utilisation des quatre boucles électromagnétiques nommées SRDT46_47, SRDT47_48, SRDT48_49 et SRDT49 ainsi que des 31 tronçons FCD de 500 m numérotés de 1 à 31 dans le sens Nord-Sud.\n",
    "\n",
    "![title](2.jpg)\n",
    "\n",
    "Afin d’évaluer la pertinence de la mesure, vous êtes chargé d'effectuer une mission d’évaluation. Cette mission est une étude à posteriori de la mesure de gestion de trafic mise en place par la DIRCO. Elle devra se concentrer sur la section de l’A20 présentant les plus fortes perturbations en période estivale sur les samedis des mois de juillet 2018 et 2019.\n",
    "N'oubliez pas que l’objectif principal de la mesure consiste à fluidifier le barreau autoroutier durant la période estivale et en particulier les samedis de juillet.\n"
   ]
  },
  {
   "cell_type": "code",
   "execution_count": 9,
   "metadata": {},
   "outputs": [
    {
     "name": "stdout",
     "output_type": "stream",
     "text": [
      "Requirement already satisfied: pandas in /srv/conda/envs/notebook/lib/python3.7/site-packages (0.25.3)\n",
      "Requirement already satisfied: matplotlib in /srv/conda/envs/notebook/lib/python3.7/site-packages (3.1.2)\n",
      "Requirement already satisfied: numpy>=1.13.3 in /srv/conda/envs/notebook/lib/python3.7/site-packages (from pandas) (1.17.4)\n",
      "Requirement already satisfied: pytz>=2017.2 in /srv/conda/envs/notebook/lib/python3.7/site-packages (from pandas) (2019.3)\n",
      "Requirement already satisfied: python-dateutil>=2.6.1 in /srv/conda/envs/notebook/lib/python3.7/site-packages (from pandas) (2.8.0)\n",
      "Requirement already satisfied: pyparsing!=2.0.4,!=2.1.2,!=2.1.6,>=2.0.1 in /srv/conda/envs/notebook/lib/python3.7/site-packages (from matplotlib) (2.4.5)\n",
      "Requirement already satisfied: kiwisolver>=1.0.1 in /srv/conda/envs/notebook/lib/python3.7/site-packages (from matplotlib) (1.1.0)\n",
      "Requirement already satisfied: cycler>=0.10 in /srv/conda/envs/notebook/lib/python3.7/site-packages (from matplotlib) (0.10.0)\n",
      "Requirement already satisfied: six>=1.5 in /srv/conda/envs/notebook/lib/python3.7/site-packages (from python-dateutil>=2.6.1->pandas) (1.12.0)\n",
      "Requirement already satisfied: setuptools in /srv/conda/envs/notebook/lib/python3.7/site-packages (from kiwisolver>=1.0.1->matplotlib) (41.2.0)\n"
     ]
    }
   ],
   "source": [
    "# Un peu d'aide au démarrage : voici l'import de quelques modules dont vous aurez besoin pour réaliser votre étude ...\n",
    "import sys\n",
    "!{sys.executable} -m pip install pandas matplotlib\n",
    "import pandas as pd\n",
    "from matplotlib.figure import Figure\n",
    "import matplotlib.pyplot as plt\n",
    "import datetime\n",
    "from datetime import datetime\n",
    "from datetime import timedelta\n",
    "import matplotlib.ticker as ticker\n",
    "import matplotlib.style as style\n",
    "import numpy as np"
   ]
  },
  {
   "cell_type": "code",
   "execution_count": 10,
   "metadata": {},
   "outputs": [],
   "source": [
    "#%% ... et voici l'import données de trafic\n",
    "df=pd.read_csv('dfAll.csv', sep=';', index_col = 0, dtype = {'id capteur':str,'voie':str,'sens':str,'date':str,'agregation':int,'type vehicule':str,'id vehicule':str,'debit':int,'vitesse':int,'nb essieux':int,'longueur vehicule':float,'taux occupation':float,'temps presence':float,'distance intervehiculaire':float})\n",
    "\n",
    "data_TP=pd.read_csv('dataTP_aggr.csv')"
   ]
  },
  {
   "cell_type": "markdown",
   "metadata": {},
   "source": [
    "## Petite note concernant le calcul des temps de parcours de la section\n",
    "\n",
    "Les données de temps de parcours des usagers ont été calculé à partir des données FCD. Pour ce faire, nous avons calculé un temps de traversée de la section complète du barreau A20/A89 dans le sens Nord-Sud, depuis le tronçon FCD n°1 jusqu’au tronçon n°31.\n",
    "\n",
    "Méthodologie de calcul :\n",
    "Pour ce calcul, nous avons simulé une entrée d’un usager sur la section du réseau routier toutes les minutes puis nous avons effectué les actions suivantes :\n",
    "    • recherche de la valeur de la vitesse moyenne associée au premier tronçon FCD du réseau à la date d’entrée de l’usager ;\n",
    "    • recherche de la date de sortie de l’usager pour ce premier tronçon à partir de sa valeur de  vitesse et de sa longueur (500 m). Ainsi nous pouvons en déduire sa date de sortie du premier tronçon ;\n",
    "    • répétition de la recherche précédente sur les tronçons suivants en prenant en compte comme date d’entrée du tronçon suivant la date de sortie du tronçon précédent ;\n",
    "    • calcul du temps de parcours de cet usager sur l’ensemble des tronçons FCD : le temps de parcours global est égal à la somme des temps de parcours de chaque tronçon ;\n",
    "    • agrégation temporelle sur une période de 6 minutes de la valeur de temps de parcours d’un usager entrant sur la section du réseau routier calculé toutes les minutes.\n",
    "    \n",
    "La figure ci-dessous permet de représenter la méthodologie de calcul d'une moyenne des temps de parcours pour une minute. Cette valeur moyenne de temps de parcours, agrégée toutes les 6 minutes, sera prise comme valeur de temps de parcours sur la section (voir variable data_TP)\n",
    "\n",
    "![title](3.jpg)"
   ]
  },
  {
   "cell_type": "code",
   "execution_count": 11,
   "metadata": {},
   "outputs": [
    {
     "data": {
      "text/html": [
       "<div>\n",
       "<style scoped>\n",
       "    .dataframe tbody tr th:only-of-type {\n",
       "        vertical-align: middle;\n",
       "    }\n",
       "\n",
       "    .dataframe tbody tr th {\n",
       "        vertical-align: top;\n",
       "    }\n",
       "\n",
       "    .dataframe thead th {\n",
       "        text-align: right;\n",
       "    }\n",
       "</style>\n",
       "<table border=\"1\" class=\"dataframe\">\n",
       "  <thead>\n",
       "    <tr style=\"text-align: right;\">\n",
       "      <th></th>\n",
       "      <th>heure_aggr</th>\n",
       "      <th>TP_s</th>\n",
       "      <th>date</th>\n",
       "      <th>heure</th>\n",
       "      <th>jour</th>\n",
       "    </tr>\n",
       "  </thead>\n",
       "  <tbody>\n",
       "    <tr>\n",
       "      <th>0</th>\n",
       "      <td>2018-07-07 00:00:00</td>\n",
       "      <td>490.228063</td>\n",
       "      <td>2018-07-07 00:00:00</td>\n",
       "      <td>00:00</td>\n",
       "      <td>2018/07/07</td>\n",
       "    </tr>\n",
       "    <tr>\n",
       "      <th>1</th>\n",
       "      <td>2018-07-07 00:06:00</td>\n",
       "      <td>483.968833</td>\n",
       "      <td>2018-07-07 00:06:00</td>\n",
       "      <td>00:06</td>\n",
       "      <td>2018/07/07</td>\n",
       "    </tr>\n",
       "    <tr>\n",
       "      <th>2</th>\n",
       "      <td>2018-07-07 00:12:00</td>\n",
       "      <td>473.258870</td>\n",
       "      <td>2018-07-07 00:12:00</td>\n",
       "      <td>00:12</td>\n",
       "      <td>2018/07/07</td>\n",
       "    </tr>\n",
       "    <tr>\n",
       "      <th>3</th>\n",
       "      <td>2018-07-07 00:18:00</td>\n",
       "      <td>449.254511</td>\n",
       "      <td>2018-07-07 00:18:00</td>\n",
       "      <td>00:18</td>\n",
       "      <td>2018/07/07</td>\n",
       "    </tr>\n",
       "    <tr>\n",
       "      <th>4</th>\n",
       "      <td>2018-07-07 00:24:00</td>\n",
       "      <td>482.761022</td>\n",
       "      <td>2018-07-07 00:24:00</td>\n",
       "      <td>00:24</td>\n",
       "      <td>2018/07/07</td>\n",
       "    </tr>\n",
       "    <tr>\n",
       "      <th>...</th>\n",
       "      <td>...</td>\n",
       "      <td>...</td>\n",
       "      <td>...</td>\n",
       "      <td>...</td>\n",
       "      <td>...</td>\n",
       "    </tr>\n",
       "    <tr>\n",
       "      <th>1915</th>\n",
       "      <td>2019-07-27 23:30:00</td>\n",
       "      <td>510.558982</td>\n",
       "      <td>2019-07-27 23:30:00</td>\n",
       "      <td>23:30</td>\n",
       "      <td>2019/07/27</td>\n",
       "    </tr>\n",
       "    <tr>\n",
       "      <th>1916</th>\n",
       "      <td>2019-07-27 23:36:00</td>\n",
       "      <td>523.908755</td>\n",
       "      <td>2019-07-27 23:36:00</td>\n",
       "      <td>23:36</td>\n",
       "      <td>2019/07/27</td>\n",
       "    </tr>\n",
       "    <tr>\n",
       "      <th>1917</th>\n",
       "      <td>2019-07-27 23:42:00</td>\n",
       "      <td>520.302233</td>\n",
       "      <td>2019-07-27 23:42:00</td>\n",
       "      <td>23:42</td>\n",
       "      <td>2019/07/27</td>\n",
       "    </tr>\n",
       "    <tr>\n",
       "      <th>1918</th>\n",
       "      <td>2019-07-27 23:48:00</td>\n",
       "      <td>540.393115</td>\n",
       "      <td>2019-07-27 23:48:00</td>\n",
       "      <td>23:48</td>\n",
       "      <td>2019/07/27</td>\n",
       "    </tr>\n",
       "    <tr>\n",
       "      <th>1919</th>\n",
       "      <td>2019-07-27 23:54:00</td>\n",
       "      <td>551.860862</td>\n",
       "      <td>2019-07-27 23:54:00</td>\n",
       "      <td>23:54</td>\n",
       "      <td>2019/07/27</td>\n",
       "    </tr>\n",
       "  </tbody>\n",
       "</table>\n",
       "<p>1920 rows × 5 columns</p>\n",
       "</div>"
      ],
      "text/plain": [
       "               heure_aggr        TP_s                 date  heure        jour\n",
       "0     2018-07-07 00:00:00  490.228063  2018-07-07 00:00:00  00:00  2018/07/07\n",
       "1     2018-07-07 00:06:00  483.968833  2018-07-07 00:06:00  00:06  2018/07/07\n",
       "2     2018-07-07 00:12:00  473.258870  2018-07-07 00:12:00  00:12  2018/07/07\n",
       "3     2018-07-07 00:18:00  449.254511  2018-07-07 00:18:00  00:18  2018/07/07\n",
       "4     2018-07-07 00:24:00  482.761022  2018-07-07 00:24:00  00:24  2018/07/07\n",
       "...                   ...         ...                  ...    ...         ...\n",
       "1915  2019-07-27 23:30:00  510.558982  2019-07-27 23:30:00  23:30  2019/07/27\n",
       "1916  2019-07-27 23:36:00  523.908755  2019-07-27 23:36:00  23:36  2019/07/27\n",
       "1917  2019-07-27 23:42:00  520.302233  2019-07-27 23:42:00  23:42  2019/07/27\n",
       "1918  2019-07-27 23:48:00  540.393115  2019-07-27 23:48:00  23:48  2019/07/27\n",
       "1919  2019-07-27 23:54:00  551.860862  2019-07-27 23:54:00  23:54  2019/07/27\n",
       "\n",
       "[1920 rows x 5 columns]"
      ]
     },
     "execution_count": 11,
     "metadata": {},
     "output_type": "execute_result"
    }
   ],
   "source": [
    "data_TP"
   ]
  },
  {
   "cell_type": "code",
   "execution_count": null,
   "metadata": {},
   "outputs": [],
   "source": [
    "df"
   ]
  },
  {
   "cell_type": "markdown",
   "metadata": {},
   "source": [
    "### Maintenant c'est à vous de jouer !"
   ]
  },
  {
   "cell_type": "code",
   "execution_count": 5,
   "metadata": {},
   "outputs": [],
   "source": []
  }
 ],
 "metadata": {
  "kernelspec": {
   "display_name": "Python 3",
   "language": "python",
   "name": "python3"
  },
  "language_info": {
   "codemirror_mode": {
    "name": "ipython",
    "version": 3
   },
   "file_extension": ".py",
   "mimetype": "text/x-python",
   "name": "python",
   "nbconvert_exporter": "python",
   "pygments_lexer": "ipython3",
   "version": "3.7.3"
  }
 },
 "nbformat": 4,
 "nbformat_minor": 1
}
